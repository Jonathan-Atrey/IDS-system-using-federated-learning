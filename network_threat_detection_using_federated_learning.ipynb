{
  "cells": [
    {
      "cell_type": "markdown",
      "metadata": {
        "id": "NVIVaUtJV0d8"
      },
      "source": [
        "## Demo Flow"
      ]
    },
    {
      "cell_type": "markdown",
      "metadata": {
        "id": "Mr_965mCV0d8"
      },
      "source": [
        "1. Capture data.\n",
        "- Construct feature matrix  \n",
        "- Construct target vector\n",
        "- Train/Test Split  \n",
        "- Setup environment  \n",
        "- Prepare federated data.\n",
        "- Define a DL model.\n",
        "- Define the training process.\n",
        "- Define the validation process.\n",
        "- Train model in federated way.\n",
        "- Save, Load, Predict."
      ]
    },
    {
      "cell_type": "markdown",
      "metadata": {
        "id": "nSP3L5bBV0d9"
      },
      "source": [
        "### 1. Capture data and preprocess"
      ]
    },
    {
      "cell_type": "code",
      "execution_count": null,
      "metadata": {
        "colab": {
          "base_uri": "https://localhost:8080/",
          "height": 237
        },
        "id": "RJihKx7vV0d-",
        "outputId": "a264b282-a8a5-46c1-e5d9-5d94d12f14d0"
      },
      "outputs": [
        {
          "output_type": "execute_result",
          "data": {
            "text/plain": [
              "   duration protocol_type service flag  src_bytes  ...  dst_host_serror_rate  \\\n",
              "0         0           tcp    http   SF        181  ...                   0.0   \n",
              "1         0           tcp    http   SF        239  ...                   0.0   \n",
              "2         0           tcp    http   SF        235  ...                   0.0   \n",
              "\n",
              "   dst_host_srv_serror_rate  dst_host_rerror_rate  dst_host_srv_rerror_rate  \\\n",
              "0                       0.0                   0.0                       0.0   \n",
              "1                       0.0                   0.0                       0.0   \n",
              "2                       0.0                   0.0                       0.0   \n",
              "\n",
              "   threat_type  \n",
              "0      normal.  \n",
              "1      normal.  \n",
              "2      normal.  \n",
              "\n",
              "[3 rows x 42 columns]"
            ],
            "text/html": [
              "\n",
              "  <div id=\"df-e2295b3b-cf6d-4636-85ef-0f5fe1ec2de3\">\n",
              "    <div class=\"colab-df-container\">\n",
              "      <div>\n",
              "<style scoped>\n",
              "    .dataframe tbody tr th:only-of-type {\n",
              "        vertical-align: middle;\n",
              "    }\n",
              "\n",
              "    .dataframe tbody tr th {\n",
              "        vertical-align: top;\n",
              "    }\n",
              "\n",
              "    .dataframe thead th {\n",
              "        text-align: right;\n",
              "    }\n",
              "</style>\n",
              "<table border=\"1\" class=\"dataframe\">\n",
              "  <thead>\n",
              "    <tr style=\"text-align: right;\">\n",
              "      <th></th>\n",
              "      <th>duration</th>\n",
              "      <th>protocol_type</th>\n",
              "      <th>service</th>\n",
              "      <th>flag</th>\n",
              "      <th>src_bytes</th>\n",
              "      <th>...</th>\n",
              "      <th>dst_host_serror_rate</th>\n",
              "      <th>dst_host_srv_serror_rate</th>\n",
              "      <th>dst_host_rerror_rate</th>\n",
              "      <th>dst_host_srv_rerror_rate</th>\n",
              "      <th>threat_type</th>\n",
              "    </tr>\n",
              "  </thead>\n",
              "  <tbody>\n",
              "    <tr>\n",
              "      <th>0</th>\n",
              "      <td>0</td>\n",
              "      <td>tcp</td>\n",
              "      <td>http</td>\n",
              "      <td>SF</td>\n",
              "      <td>181</td>\n",
              "      <td>...</td>\n",
              "      <td>0.0</td>\n",
              "      <td>0.0</td>\n",
              "      <td>0.0</td>\n",
              "      <td>0.0</td>\n",
              "      <td>normal.</td>\n",
              "    </tr>\n",
              "    <tr>\n",
              "      <th>1</th>\n",
              "      <td>0</td>\n",
              "      <td>tcp</td>\n",
              "      <td>http</td>\n",
              "      <td>SF</td>\n",
              "      <td>239</td>\n",
              "      <td>...</td>\n",
              "      <td>0.0</td>\n",
              "      <td>0.0</td>\n",
              "      <td>0.0</td>\n",
              "      <td>0.0</td>\n",
              "      <td>normal.</td>\n",
              "    </tr>\n",
              "    <tr>\n",
              "      <th>2</th>\n",
              "      <td>0</td>\n",
              "      <td>tcp</td>\n",
              "      <td>http</td>\n",
              "      <td>SF</td>\n",
              "      <td>235</td>\n",
              "      <td>...</td>\n",
              "      <td>0.0</td>\n",
              "      <td>0.0</td>\n",
              "      <td>0.0</td>\n",
              "      <td>0.0</td>\n",
              "      <td>normal.</td>\n",
              "    </tr>\n",
              "  </tbody>\n",
              "</table>\n",
              "<p>3 rows × 42 columns</p>\n",
              "</div>\n",
              "      <button class=\"colab-df-convert\" onclick=\"convertToInteractive('df-e2295b3b-cf6d-4636-85ef-0f5fe1ec2de3')\"\n",
              "              title=\"Convert this dataframe to an interactive table.\"\n",
              "              style=\"display:none;\">\n",
              "        \n",
              "  <svg xmlns=\"http://www.w3.org/2000/svg\" height=\"24px\"viewBox=\"0 0 24 24\"\n",
              "       width=\"24px\">\n",
              "    <path d=\"M0 0h24v24H0V0z\" fill=\"none\"/>\n",
              "    <path d=\"M18.56 5.44l.94 2.06.94-2.06 2.06-.94-2.06-.94-.94-2.06-.94 2.06-2.06.94zm-11 1L8.5 8.5l.94-2.06 2.06-.94-2.06-.94L8.5 2.5l-.94 2.06-2.06.94zm10 10l.94 2.06.94-2.06 2.06-.94-2.06-.94-.94-2.06-.94 2.06-2.06.94z\"/><path d=\"M17.41 7.96l-1.37-1.37c-.4-.4-.92-.59-1.43-.59-.52 0-1.04.2-1.43.59L10.3 9.45l-7.72 7.72c-.78.78-.78 2.05 0 2.83L4 21.41c.39.39.9.59 1.41.59.51 0 1.02-.2 1.41-.59l7.78-7.78 2.81-2.81c.8-.78.8-2.07 0-2.86zM5.41 20L4 18.59l7.72-7.72 1.47 1.35L5.41 20z\"/>\n",
              "  </svg>\n",
              "      </button>\n",
              "      \n",
              "  <style>\n",
              "    .colab-df-container {\n",
              "      display:flex;\n",
              "      flex-wrap:wrap;\n",
              "      gap: 12px;\n",
              "    }\n",
              "\n",
              "    .colab-df-convert {\n",
              "      background-color: #E8F0FE;\n",
              "      border: none;\n",
              "      border-radius: 50%;\n",
              "      cursor: pointer;\n",
              "      display: none;\n",
              "      fill: #1967D2;\n",
              "      height: 32px;\n",
              "      padding: 0 0 0 0;\n",
              "      width: 32px;\n",
              "    }\n",
              "\n",
              "    .colab-df-convert:hover {\n",
              "      background-color: #E2EBFA;\n",
              "      box-shadow: 0px 1px 2px rgba(60, 64, 67, 0.3), 0px 1px 3px 1px rgba(60, 64, 67, 0.15);\n",
              "      fill: #174EA6;\n",
              "    }\n",
              "\n",
              "    [theme=dark] .colab-df-convert {\n",
              "      background-color: #3B4455;\n",
              "      fill: #D2E3FC;\n",
              "    }\n",
              "\n",
              "    [theme=dark] .colab-df-convert:hover {\n",
              "      background-color: #434B5C;\n",
              "      box-shadow: 0px 1px 3px 1px rgba(0, 0, 0, 0.15);\n",
              "      filter: drop-shadow(0px 1px 2px rgba(0, 0, 0, 0.3));\n",
              "      fill: #FFFFFF;\n",
              "    }\n",
              "  </style>\n",
              "\n",
              "      <script>\n",
              "        const buttonEl =\n",
              "          document.querySelector('#df-e2295b3b-cf6d-4636-85ef-0f5fe1ec2de3 button.colab-df-convert');\n",
              "        buttonEl.style.display =\n",
              "          google.colab.kernel.accessAllowed ? 'block' : 'none';\n",
              "\n",
              "        async function convertToInteractive(key) {\n",
              "          const element = document.querySelector('#df-e2295b3b-cf6d-4636-85ef-0f5fe1ec2de3');\n",
              "          const dataTable =\n",
              "            await google.colab.kernel.invokeFunction('convertToInteractive',\n",
              "                                                     [key], {});\n",
              "          if (!dataTable) return;\n",
              "\n",
              "          const docLinkHtml = 'Like what you see? Visit the ' +\n",
              "            '<a target=\"_blank\" href=https://colab.research.google.com/notebooks/data_table.ipynb>data table notebook</a>'\n",
              "            + ' to learn more about interactive tables.';\n",
              "          element.innerHTML = '';\n",
              "          dataTable['output_type'] = 'display_data';\n",
              "          await google.colab.output.renderOutput(dataTable, element);\n",
              "          const docLink = document.createElement('div');\n",
              "          docLink.innerHTML = docLinkHtml;\n",
              "          element.appendChild(docLink);\n",
              "        }\n",
              "      </script>\n",
              "    </div>\n",
              "  </div>\n",
              "  "
            ]
          },
          "metadata": {},
          "execution_count": 1
        }
      ],
      "source": [
        "import pandas as pd\n",
        "pd.set_option(\"display.max_columns\", 10)\n",
        "# We use the KDD CUP 1999 data (https://kdd.ics.uci.edu/databases/kddcup99/kddcup99.html)\n",
        "# 41 column names can be found at https://kdd.ics.uci.edu/databases/kddcup99/kddcup.names\n",
        "colnames = ['duration', 'protocol_type', 'service', 'flag', 'src_bytes', 'dst_bytes', 'land',\n",
        "            'wrong_fragment', 'urgent', 'hot', 'num_failed_logins', 'logged_in', 'num_compromised',\n",
        "            'root_shell', 'su_attempted', 'num_root', 'num_file_creations', 'num_shells', 'num_access_files',\n",
        "            'num_outbound_cmds', 'is_host_login', 'is_guest_login', 'count', 'srv_count', 'serror_rate',\n",
        "            'srv_serror_rate', 'rerror_rate', 'srv_rerror_rate', 'same_srv_rate', 'diff_srv_rate',\n",
        "            'srv_diff_host_rate', 'dst_host_count', 'dst_host_srv_count', 'dst_host_same_srv_rate',\n",
        "            'dst_host_diff_srv_rate', 'dst_host_same_src_port_rate', 'dst_host_srv_diff_host_rate',\n",
        "            'dst_host_serror_rate', 'dst_host_srv_serror_rate', 'dst_host_rerror_rate',\n",
        "            'dst_host_srv_rerror_rate']\n",
        "\n",
        "# We take 10% of the original data which can be found at \n",
        "# http://kdd.ics.uci.edu/databases/kddcup99/kddcup.data_10_percent.gz\n",
        "# We select the first 100K records from this data\n",
        "df = pd.read_csv(\"http://kdd.ics.uci.edu/databases/kddcup99/kddcup.data_10_percent.gz\",\n",
        "                 names=colnames+[\"threat_type\"])[:100000]\n",
        "\n",
        "df.head(3)"
      ]
    },
    {
      "cell_type": "markdown",
      "metadata": {
        "id": "31f5wXcAV0eA"
      },
      "source": [
        "### Threat type distribution"
      ]
    },
    {
      "cell_type": "code",
      "execution_count": null,
      "metadata": {
        "colab": {
          "base_uri": "https://localhost:8080/"
        },
        "id": "nJovK-SyV0eA",
        "outputId": "34e9cd91-4628-4334-e84b-5c9b189e71fe"
      },
      "outputs": [
        {
          "output_type": "stream",
          "name": "stdout",
          "text": [
            "Looking in indexes: https://pypi.org/simple, https://us-python.pkg.dev/colab-wheels/public/simple/\n",
            "Requirement already satisfied: plotly in /usr/local/lib/python3.7/dist-packages (5.5.0)\n",
            "Requirement already satisfied: tenacity>=6.2.0 in /usr/local/lib/python3.7/dist-packages (from plotly) (8.1.0)\n",
            "Requirement already satisfied: six in /usr/local/lib/python3.7/dist-packages (from plotly) (1.15.0)\n"
          ]
        }
      ],
      "source": [
        "pip install plotly"
      ]
    },
    {
      "cell_type": "code",
      "execution_count": null,
      "metadata": {
        "colab": {
          "base_uri": "https://localhost:8080/",
          "height": 559
        },
        "id": "DAyPhZ72V0eB",
        "outputId": "88af5f51-0fa6-472b-fada-c075be354159"
      },
      "outputs": [
        {
          "output_type": "stream",
          "name": "stdout",
          "text": [
            "Total distinct number of threat types :  20\n"
          ]
        },
        {
          "output_type": "display_data",
          "data": {
            "text/html": [
              "<html>\n",
              "<head><meta charset=\"utf-8\" /></head>\n",
              "<body>\n",
              "    <div>            <script src=\"https://cdnjs.cloudflare.com/ajax/libs/mathjax/2.7.5/MathJax.js?config=TeX-AMS-MML_SVG\"></script><script type=\"text/javascript\">if (window.MathJax) {MathJax.Hub.Config({SVG: {font: \"STIX-Web\"}});}</script>                <script type=\"text/javascript\">window.PlotlyConfig = {MathJaxConfig: 'local'};</script>\n",
              "        <script src=\"https://cdn.plot.ly/plotly-2.8.3.min.js\"></script>                <div id=\"b71911fd-5642-45f1-b600-eba88638c7af\" class=\"plotly-graph-div\" style=\"height:525px; width:100%;\"></div>            <script type=\"text/javascript\">                                    window.PLOTLYENV=window.PLOTLYENV || {};                                    if (document.getElementById(\"b71911fd-5642-45f1-b600-eba88638c7af\")) {                    Plotly.newPlot(                        \"b71911fd-5642-45f1-b600-eba88638c7af\",                        [{\"text\":[\"56237\",\"5\",\"2\",\"2\",\"20482\",\"19104\",\"53\",\"40\",\"199\",\"278\",\"760\",\"17\",\"8\",\"2002\",\"12\",\"539\",\"3\",\"231\",\"6\",\"20\"],\"textposition\":\"auto\",\"x\":[\"normal.\",\"buffer_overflow.\",\"loadmodule.\",\"perl.\",\"neptune.\",\"smurf.\",\"guess_passwd.\",\"pod.\",\"teardrop.\",\"portsweep.\",\"ipsweep.\",\"land.\",\"ftp_write.\",\"back.\",\"imap.\",\"satan.\",\"phf.\",\"nmap.\",\"multihop.\",\"warezmaster.\"],\"y\":[56237,5,2,2,20482,19104,53,40,199,278,760,17,8,2002,12,539,3,231,6,20],\"type\":\"bar\"}],                        {\"template\":{\"data\":{\"bar\":[{\"error_x\":{\"color\":\"#2a3f5f\"},\"error_y\":{\"color\":\"#2a3f5f\"},\"marker\":{\"line\":{\"color\":\"#E5ECF6\",\"width\":0.5},\"pattern\":{\"fillmode\":\"overlay\",\"size\":10,\"solidity\":0.2}},\"type\":\"bar\"}],\"barpolar\":[{\"marker\":{\"line\":{\"color\":\"#E5ECF6\",\"width\":0.5},\"pattern\":{\"fillmode\":\"overlay\",\"size\":10,\"solidity\":0.2}},\"type\":\"barpolar\"}],\"carpet\":[{\"aaxis\":{\"endlinecolor\":\"#2a3f5f\",\"gridcolor\":\"white\",\"linecolor\":\"white\",\"minorgridcolor\":\"white\",\"startlinecolor\":\"#2a3f5f\"},\"baxis\":{\"endlinecolor\":\"#2a3f5f\",\"gridcolor\":\"white\",\"linecolor\":\"white\",\"minorgridcolor\":\"white\",\"startlinecolor\":\"#2a3f5f\"},\"type\":\"carpet\"}],\"choropleth\":[{\"colorbar\":{\"outlinewidth\":0,\"ticks\":\"\"},\"type\":\"choropleth\"}],\"contour\":[{\"colorbar\":{\"outlinewidth\":0,\"ticks\":\"\"},\"colorscale\":[[0.0,\"#0d0887\"],[0.1111111111111111,\"#46039f\"],[0.2222222222222222,\"#7201a8\"],[0.3333333333333333,\"#9c179e\"],[0.4444444444444444,\"#bd3786\"],[0.5555555555555556,\"#d8576b\"],[0.6666666666666666,\"#ed7953\"],[0.7777777777777778,\"#fb9f3a\"],[0.8888888888888888,\"#fdca26\"],[1.0,\"#f0f921\"]],\"type\":\"contour\"}],\"contourcarpet\":[{\"colorbar\":{\"outlinewidth\":0,\"ticks\":\"\"},\"type\":\"contourcarpet\"}],\"heatmap\":[{\"colorbar\":{\"outlinewidth\":0,\"ticks\":\"\"},\"colorscale\":[[0.0,\"#0d0887\"],[0.1111111111111111,\"#46039f\"],[0.2222222222222222,\"#7201a8\"],[0.3333333333333333,\"#9c179e\"],[0.4444444444444444,\"#bd3786\"],[0.5555555555555556,\"#d8576b\"],[0.6666666666666666,\"#ed7953\"],[0.7777777777777778,\"#fb9f3a\"],[0.8888888888888888,\"#fdca26\"],[1.0,\"#f0f921\"]],\"type\":\"heatmap\"}],\"heatmapgl\":[{\"colorbar\":{\"outlinewidth\":0,\"ticks\":\"\"},\"colorscale\":[[0.0,\"#0d0887\"],[0.1111111111111111,\"#46039f\"],[0.2222222222222222,\"#7201a8\"],[0.3333333333333333,\"#9c179e\"],[0.4444444444444444,\"#bd3786\"],[0.5555555555555556,\"#d8576b\"],[0.6666666666666666,\"#ed7953\"],[0.7777777777777778,\"#fb9f3a\"],[0.8888888888888888,\"#fdca26\"],[1.0,\"#f0f921\"]],\"type\":\"heatmapgl\"}],\"histogram\":[{\"marker\":{\"pattern\":{\"fillmode\":\"overlay\",\"size\":10,\"solidity\":0.2}},\"type\":\"histogram\"}],\"histogram2d\":[{\"colorbar\":{\"outlinewidth\":0,\"ticks\":\"\"},\"colorscale\":[[0.0,\"#0d0887\"],[0.1111111111111111,\"#46039f\"],[0.2222222222222222,\"#7201a8\"],[0.3333333333333333,\"#9c179e\"],[0.4444444444444444,\"#bd3786\"],[0.5555555555555556,\"#d8576b\"],[0.6666666666666666,\"#ed7953\"],[0.7777777777777778,\"#fb9f3a\"],[0.8888888888888888,\"#fdca26\"],[1.0,\"#f0f921\"]],\"type\":\"histogram2d\"}],\"histogram2dcontour\":[{\"colorbar\":{\"outlinewidth\":0,\"ticks\":\"\"},\"colorscale\":[[0.0,\"#0d0887\"],[0.1111111111111111,\"#46039f\"],[0.2222222222222222,\"#7201a8\"],[0.3333333333333333,\"#9c179e\"],[0.4444444444444444,\"#bd3786\"],[0.5555555555555556,\"#d8576b\"],[0.6666666666666666,\"#ed7953\"],[0.7777777777777778,\"#fb9f3a\"],[0.8888888888888888,\"#fdca26\"],[1.0,\"#f0f921\"]],\"type\":\"histogram2dcontour\"}],\"mesh3d\":[{\"colorbar\":{\"outlinewidth\":0,\"ticks\":\"\"},\"type\":\"mesh3d\"}],\"parcoords\":[{\"line\":{\"colorbar\":{\"outlinewidth\":0,\"ticks\":\"\"}},\"type\":\"parcoords\"}],\"pie\":[{\"automargin\":true,\"type\":\"pie\"}],\"scatter\":[{\"marker\":{\"colorbar\":{\"outlinewidth\":0,\"ticks\":\"\"}},\"type\":\"scatter\"}],\"scatter3d\":[{\"line\":{\"colorbar\":{\"outlinewidth\":0,\"ticks\":\"\"}},\"marker\":{\"colorbar\":{\"outlinewidth\":0,\"ticks\":\"\"}},\"type\":\"scatter3d\"}],\"scattercarpet\":[{\"marker\":{\"colorbar\":{\"outlinewidth\":0,\"ticks\":\"\"}},\"type\":\"scattercarpet\"}],\"scattergeo\":[{\"marker\":{\"colorbar\":{\"outlinewidth\":0,\"ticks\":\"\"}},\"type\":\"scattergeo\"}],\"scattergl\":[{\"marker\":{\"colorbar\":{\"outlinewidth\":0,\"ticks\":\"\"}},\"type\":\"scattergl\"}],\"scattermapbox\":[{\"marker\":{\"colorbar\":{\"outlinewidth\":0,\"ticks\":\"\"}},\"type\":\"scattermapbox\"}],\"scatterpolar\":[{\"marker\":{\"colorbar\":{\"outlinewidth\":0,\"ticks\":\"\"}},\"type\":\"scatterpolar\"}],\"scatterpolargl\":[{\"marker\":{\"colorbar\":{\"outlinewidth\":0,\"ticks\":\"\"}},\"type\":\"scatterpolargl\"}],\"scatterternary\":[{\"marker\":{\"colorbar\":{\"outlinewidth\":0,\"ticks\":\"\"}},\"type\":\"scatterternary\"}],\"surface\":[{\"colorbar\":{\"outlinewidth\":0,\"ticks\":\"\"},\"colorscale\":[[0.0,\"#0d0887\"],[0.1111111111111111,\"#46039f\"],[0.2222222222222222,\"#7201a8\"],[0.3333333333333333,\"#9c179e\"],[0.4444444444444444,\"#bd3786\"],[0.5555555555555556,\"#d8576b\"],[0.6666666666666666,\"#ed7953\"],[0.7777777777777778,\"#fb9f3a\"],[0.8888888888888888,\"#fdca26\"],[1.0,\"#f0f921\"]],\"type\":\"surface\"}],\"table\":[{\"cells\":{\"fill\":{\"color\":\"#EBF0F8\"},\"line\":{\"color\":\"white\"}},\"header\":{\"fill\":{\"color\":\"#C8D4E3\"},\"line\":{\"color\":\"white\"}},\"type\":\"table\"}]},\"layout\":{\"annotationdefaults\":{\"arrowcolor\":\"#2a3f5f\",\"arrowhead\":0,\"arrowwidth\":1},\"autotypenumbers\":\"strict\",\"coloraxis\":{\"colorbar\":{\"outlinewidth\":0,\"ticks\":\"\"}},\"colorscale\":{\"diverging\":[[0,\"#8e0152\"],[0.1,\"#c51b7d\"],[0.2,\"#de77ae\"],[0.3,\"#f1b6da\"],[0.4,\"#fde0ef\"],[0.5,\"#f7f7f7\"],[0.6,\"#e6f5d0\"],[0.7,\"#b8e186\"],[0.8,\"#7fbc41\"],[0.9,\"#4d9221\"],[1,\"#276419\"]],\"sequential\":[[0.0,\"#0d0887\"],[0.1111111111111111,\"#46039f\"],[0.2222222222222222,\"#7201a8\"],[0.3333333333333333,\"#9c179e\"],[0.4444444444444444,\"#bd3786\"],[0.5555555555555556,\"#d8576b\"],[0.6666666666666666,\"#ed7953\"],[0.7777777777777778,\"#fb9f3a\"],[0.8888888888888888,\"#fdca26\"],[1.0,\"#f0f921\"]],\"sequentialminus\":[[0.0,\"#0d0887\"],[0.1111111111111111,\"#46039f\"],[0.2222222222222222,\"#7201a8\"],[0.3333333333333333,\"#9c179e\"],[0.4444444444444444,\"#bd3786\"],[0.5555555555555556,\"#d8576b\"],[0.6666666666666666,\"#ed7953\"],[0.7777777777777778,\"#fb9f3a\"],[0.8888888888888888,\"#fdca26\"],[1.0,\"#f0f921\"]]},\"colorway\":[\"#636efa\",\"#EF553B\",\"#00cc96\",\"#ab63fa\",\"#FFA15A\",\"#19d3f3\",\"#FF6692\",\"#B6E880\",\"#FF97FF\",\"#FECB52\"],\"font\":{\"color\":\"#2a3f5f\"},\"geo\":{\"bgcolor\":\"white\",\"lakecolor\":\"white\",\"landcolor\":\"#E5ECF6\",\"showlakes\":true,\"showland\":true,\"subunitcolor\":\"white\"},\"hoverlabel\":{\"align\":\"left\"},\"hovermode\":\"closest\",\"mapbox\":{\"style\":\"light\"},\"paper_bgcolor\":\"white\",\"plot_bgcolor\":\"#E5ECF6\",\"polar\":{\"angularaxis\":{\"gridcolor\":\"white\",\"linecolor\":\"white\",\"ticks\":\"\"},\"bgcolor\":\"#E5ECF6\",\"radialaxis\":{\"gridcolor\":\"white\",\"linecolor\":\"white\",\"ticks\":\"\"}},\"scene\":{\"xaxis\":{\"backgroundcolor\":\"#E5ECF6\",\"gridcolor\":\"white\",\"gridwidth\":2,\"linecolor\":\"white\",\"showbackground\":true,\"ticks\":\"\",\"zerolinecolor\":\"white\"},\"yaxis\":{\"backgroundcolor\":\"#E5ECF6\",\"gridcolor\":\"white\",\"gridwidth\":2,\"linecolor\":\"white\",\"showbackground\":true,\"ticks\":\"\",\"zerolinecolor\":\"white\"},\"zaxis\":{\"backgroundcolor\":\"#E5ECF6\",\"gridcolor\":\"white\",\"gridwidth\":2,\"linecolor\":\"white\",\"showbackground\":true,\"ticks\":\"\",\"zerolinecolor\":\"white\"}},\"shapedefaults\":{\"line\":{\"color\":\"#2a3f5f\"}},\"ternary\":{\"aaxis\":{\"gridcolor\":\"white\",\"linecolor\":\"white\",\"ticks\":\"\"},\"baxis\":{\"gridcolor\":\"white\",\"linecolor\":\"white\",\"ticks\":\"\"},\"bgcolor\":\"#E5ECF6\",\"caxis\":{\"gridcolor\":\"white\",\"linecolor\":\"white\",\"ticks\":\"\"}},\"title\":{\"x\":0.05},\"xaxis\":{\"automargin\":true,\"gridcolor\":\"white\",\"linecolor\":\"white\",\"ticks\":\"\",\"title\":{\"standoff\":15},\"zerolinecolor\":\"white\",\"zerolinewidth\":2},\"yaxis\":{\"automargin\":true,\"gridcolor\":\"white\",\"linecolor\":\"white\",\"ticks\":\"\",\"title\":{\"standoff\":15},\"zerolinecolor\":\"white\",\"zerolinewidth\":2}}}},                        {\"responsive\": true}                    ).then(function(){\n",
              "                            \n",
              "var gd = document.getElementById('b71911fd-5642-45f1-b600-eba88638c7af');\n",
              "var x = new MutationObserver(function (mutations, observer) {{\n",
              "        var display = window.getComputedStyle(gd).display;\n",
              "        if (!display || display === 'none') {{\n",
              "            console.log([gd, 'removed!']);\n",
              "            Plotly.purge(gd);\n",
              "            observer.disconnect();\n",
              "        }}\n",
              "}});\n",
              "\n",
              "// Listen for the removal of the full notebook cells\n",
              "var notebookContainer = gd.closest('#notebook-container');\n",
              "if (notebookContainer) {{\n",
              "    x.observe(notebookContainer, {childList: true});\n",
              "}}\n",
              "\n",
              "// Listen for the clearing of the current output cell\n",
              "var outputEl = gd.closest('.output');\n",
              "if (outputEl) {{\n",
              "    x.observe(outputEl, {childList: true});\n",
              "}}\n",
              "\n",
              "                        })                };                            </script>        </div>\n",
              "</body>\n",
              "</html>"
            ]
          },
          "metadata": {}
        }
      ],
      "source": [
        "import plotly.graph_objects as go\n",
        "from collections import Counter\n",
        "\n",
        "threat_count_dict = Counter(df[\"threat_type\"])\n",
        "threat_types = list(threat_count_dict.keys())\n",
        "threat_counts = [threat_count_dict[threat_type] for threat_type in threat_types]\n",
        "print(\"Total distinct number of threat types : \",len(threat_types))\n",
        "fig = go.Figure([go.Bar(x=threat_types, y=threat_counts,text=threat_counts,textposition='auto')])\n",
        "fig.show()"
      ]
    },
    {
      "cell_type": "markdown",
      "metadata": {
        "id": "vPmFXMW1V0eC"
      },
      "source": [
        "### 2. Construct the feature matrix"
      ]
    },
    {
      "cell_type": "code",
      "execution_count": null,
      "metadata": {
        "colab": {
          "base_uri": "https://localhost:8080/"
        },
        "id": "7FSWA2QqV0eD",
        "outputId": "cd66bac1-1d2d-47d4-da17-bf830dc90c41"
      },
      "outputs": [
        {
          "output_type": "stream",
          "name": "stdout",
          "text": [
            "Shape of feature matrix :  (100000, 33)\n"
          ]
        }
      ],
      "source": [
        "# 34 numerical columns are considered for training\n",
        "numerical_colmanes = ['duration', 'src_bytes', 'dst_bytes', 'wrong_fragment', 'urgent', 'hot',\n",
        "                      'num_failed_logins', 'num_compromised', 'root_shell', 'su_attempted', 'num_root',\n",
        "                      'num_file_creations', 'num_shells', 'num_access_files', 'num_outbound_cmds', 'count',\n",
        "                      'srv_count', 'serror_rate', 'srv_serror_rate', 'rerror_rate', 'srv_rerror_rate',\n",
        "                      'same_srv_rate', 'diff_srv_rate', 'srv_diff_host_rate', 'dst_host_count',\n",
        "                      'dst_host_srv_count', 'dst_host_same_srv_rate', 'dst_host_diff_srv_rate',\n",
        "                      'dst_host_same_src_port_rate', 'dst_host_srv_diff_host_rate', 'dst_host_serror_rate',\n",
        "                      'dst_host_srv_serror_rate', 'dst_host_rerror_rate', 'dst_host_srv_rerror_rate']\n",
        "numerical_df = df[numerical_colmanes].copy()\n",
        "# Lets remove the numerical columns with constant value\n",
        "numerical_df = numerical_df.loc[:, (numerical_df != numerical_df.iloc[0]).any()]\n",
        "# lets scale the values for each column from [0,1]\n",
        "# N.B. we dont have any negative values]\n",
        "final_df = numerical_df/numerical_df.max()\n",
        "X = final_df.values\n",
        "# final dataframe has 33 features\n",
        "print(\"Shape of feature matrix : \",X.shape)"
      ]
    },
    {
      "cell_type": "markdown",
      "metadata": {
        "id": "CT-xm2rBV0eD"
      },
      "source": [
        "### 3. Construct the target  vector"
      ]
    },
    {
      "cell_type": "code",
      "execution_count": null,
      "metadata": {
        "colab": {
          "base_uri": "https://localhost:8080/"
        },
        "id": "PaJdSITaV0eE",
        "outputId": "16767684-11e4-4c7b-9b9f-e61d31ca6a86"
      },
      "outputs": [
        {
          "output_type": "stream",
          "name": "stdout",
          "text": [
            "Shape of target vector :  (100000,)\n"
          ]
        }
      ],
      "source": [
        "from sklearn.preprocessing import LabelEncoder\n",
        "\n",
        "threat_types = df[\"threat_type\"].values\n",
        "encoder = LabelEncoder()\n",
        "# use LabelEncoder to encode the threat types in numeric values\n",
        "y = encoder.fit_transform(threat_types)\n",
        "print(\"Shape of target vector : \",y.shape)"
      ]
    },
    {
      "cell_type": "markdown",
      "metadata": {
        "id": "xCy2YTqzV0eE"
      },
      "source": [
        "### 4. Train/Test Split"
      ]
    },
    {
      "cell_type": "code",
      "execution_count": null,
      "metadata": {
        "colab": {
          "base_uri": "https://localhost:8080/"
        },
        "id": "c-3OhHySV0eE",
        "outputId": "de496d90-a403-4dc7-a9ee-70f9571c54a0"
      },
      "outputs": [
        {
          "output_type": "stream",
          "name": "stdout",
          "text": [
            "Number of records in training data :  60000\n",
            "Number of records in test data :  40000\n",
            "Total distinct number of threat types in training data :  20\n",
            "Total distinct number of threat types in test data :  20\n"
          ]
        }
      ],
      "source": [
        "from sklearn.model_selection import train_test_split\n",
        "X_train, X_test, y_train, y_test = train_test_split( X, y, test_size=0.4, random_state=42, stratify=y)\n",
        "print(\"Number of records in training data : \", X_train.shape[0])\n",
        "print(\"Number of records in test data : \", X_test.shape[0])\n",
        "print(\"Total distinct number of threat types in training data : \",len(set(y_train)))\n",
        "print(\"Total distinct number of threat types in test data : \",len(set(y_test)))"
      ]
    },
    {
      "cell_type": "markdown",
      "metadata": {
        "id": "1E42lik4V0eF"
      },
      "source": [
        "### 5. Lets set up the environment for federated learning"
      ]
    },
    {
      "cell_type": "code",
      "source": [
        "pip install syft==0.2.3"
      ],
      "metadata": {
        "colab": {
          "base_uri": "https://localhost:8080/",
          "height": 1000
        },
        "id": "eruO_rygWcoi",
        "outputId": "ab111cbb-7449-40fd-a7db-dc86d24eb310"
      },
      "execution_count": null,
      "outputs": [
        {
          "output_type": "stream",
          "name": "stdout",
          "text": [
            "Looking in indexes: https://pypi.org/simple, https://us-python.pkg.dev/colab-wheels/public/simple/\n",
            "Collecting syft==0.2.3\n",
            "  Downloading syft-0.2.3-py3-none-any.whl (331 kB)\n",
            "\u001b[K     |████████████████████████████████| 331 kB 15.1 MB/s \n",
            "\u001b[?25hCollecting scipy~=1.4.1\n",
            "  Downloading scipy-1.4.1-cp37-cp37m-manylinux1_x86_64.whl (26.1 MB)\n",
            "\u001b[K     |████████████████████████████████| 26.1 MB 1.3 MB/s \n",
            "\u001b[?25hCollecting phe~=1.4.0\n",
            "  Downloading phe-1.4.0.tar.gz (35 kB)\n",
            "Collecting torch~=1.4.0\n",
            "  Downloading torch-1.4.0-cp37-cp37m-manylinux1_x86_64.whl (753.4 MB)\n",
            "\u001b[K     |████████████████████████████████| 753.4 MB 7.6 kB/s \n",
            "\u001b[?25hCollecting tblib~=1.6.0\n",
            "  Downloading tblib-1.6.0-py2.py3-none-any.whl (12 kB)\n",
            "Collecting websocket-client~=0.57.0\n",
            "  Downloading websocket_client-0.57.0-py2.py3-none-any.whl (200 kB)\n",
            "\u001b[K     |████████████████████████████████| 200 kB 64.3 MB/s \n",
            "\u001b[?25hCollecting zstd~=1.4.4.0\n",
            "  Downloading zstd-1.4.4.0.tar.gz (469 kB)\n",
            "\u001b[K     |████████████████████████████████| 469 kB 67.7 MB/s \n",
            "\u001b[?25hCollecting websockets~=8.1.0\n",
            "  Downloading websockets-8.1-cp37-cp37m-manylinux2010_x86_64.whl (79 kB)\n",
            "\u001b[K     |████████████████████████████████| 79 kB 8.1 MB/s \n",
            "\u001b[?25hCollecting numpy~=1.18.1\n",
            "  Downloading numpy-1.18.5-cp37-cp37m-manylinux1_x86_64.whl (20.1 MB)\n",
            "\u001b[K     |████████████████████████████████| 20.1 MB 6.4 MB/s \n",
            "\u001b[?25hCollecting syft-proto~=0.2.1.a1.post2\n",
            "  Downloading syft_proto-0.2.1a1.post2-py3-none-any.whl (42 kB)\n",
            "\u001b[K     |████████████████████████████████| 42 kB 1.5 MB/s \n",
            "\u001b[?25hRequirement already satisfied: Flask~=1.1.1 in /usr/local/lib/python3.7/dist-packages (from syft==0.2.3) (1.1.4)\n",
            "Requirement already satisfied: msgpack~=1.0.0 in /usr/local/lib/python3.7/dist-packages (from syft==0.2.3) (1.0.4)\n",
            "Collecting flask-socketio~=4.2.1\n",
            "  Downloading Flask_SocketIO-4.2.1-py2.py3-none-any.whl (16 kB)\n",
            "Collecting lz4~=3.0.2\n",
            "  Downloading lz4-3.0.2-cp37-cp37m-manylinux2010_x86_64.whl (1.8 MB)\n",
            "\u001b[K     |████████████████████████████████| 1.8 MB 54.3 MB/s \n",
            "\u001b[?25hCollecting torchvision~=0.5.0\n",
            "  Downloading torchvision-0.5.0-cp37-cp37m-manylinux1_x86_64.whl (4.0 MB)\n",
            "\u001b[K     |████████████████████████████████| 4.0 MB 53.5 MB/s \n",
            "\u001b[?25hCollecting Pillow~=6.2.2\n",
            "  Downloading Pillow-6.2.2-cp37-cp37m-manylinux1_x86_64.whl (2.1 MB)\n",
            "\u001b[K     |████████████████████████████████| 2.1 MB 53.3 MB/s \n",
            "\u001b[?25hCollecting requests~=2.22.0\n",
            "  Downloading requests-2.22.0-py2.py3-none-any.whl (57 kB)\n",
            "\u001b[K     |████████████████████████████████| 57 kB 6.3 MB/s \n",
            "\u001b[?25hRequirement already satisfied: itsdangerous<2.0,>=0.24 in /usr/local/lib/python3.7/dist-packages (from Flask~=1.1.1->syft==0.2.3) (1.1.0)\n",
            "Requirement already satisfied: Jinja2<3.0,>=2.10.1 in /usr/local/lib/python3.7/dist-packages (from Flask~=1.1.1->syft==0.2.3) (2.11.3)\n",
            "Requirement already satisfied: Werkzeug<2.0,>=0.15 in /usr/local/lib/python3.7/dist-packages (from Flask~=1.1.1->syft==0.2.3) (1.0.1)\n",
            "Requirement already satisfied: click<8.0,>=5.1 in /usr/local/lib/python3.7/dist-packages (from Flask~=1.1.1->syft==0.2.3) (7.1.2)\n",
            "Collecting python-socketio>=4.3.0\n",
            "  Downloading python_socketio-5.7.2-py3-none-any.whl (56 kB)\n",
            "\u001b[K     |████████████████████████████████| 56 kB 5.6 MB/s \n",
            "\u001b[?25hRequirement already satisfied: MarkupSafe>=0.23 in /usr/local/lib/python3.7/dist-packages (from Jinja2<3.0,>=2.10.1->Flask~=1.1.1->syft==0.2.3) (2.0.1)\n",
            "Collecting python-engineio>=4.3.0\n",
            "  Downloading python_engineio-4.3.4-py3-none-any.whl (52 kB)\n",
            "\u001b[K     |████████████████████████████████| 52 kB 2.0 MB/s \n",
            "\u001b[?25hCollecting bidict>=0.21.0\n",
            "  Downloading bidict-0.22.0-py3-none-any.whl (36 kB)\n",
            "Requirement already satisfied: certifi>=2017.4.17 in /usr/local/lib/python3.7/dist-packages (from requests~=2.22.0->syft==0.2.3) (2022.9.24)\n",
            "Requirement already satisfied: urllib3!=1.25.0,!=1.25.1,<1.26,>=1.21.1 in /usr/local/lib/python3.7/dist-packages (from requests~=2.22.0->syft==0.2.3) (1.24.3)\n",
            "Requirement already satisfied: chardet<3.1.0,>=3.0.2 in /usr/local/lib/python3.7/dist-packages (from requests~=2.22.0->syft==0.2.3) (3.0.4)\n",
            "Collecting idna<2.9,>=2.5\n",
            "  Downloading idna-2.8-py2.py3-none-any.whl (58 kB)\n",
            "\u001b[K     |████████████████████████████████| 58 kB 8.0 MB/s \n",
            "\u001b[?25hRequirement already satisfied: protobuf>=3.11.1 in /usr/local/lib/python3.7/dist-packages (from syft-proto~=0.2.1.a1.post2->syft==0.2.3) (3.17.3)\n",
            "Requirement already satisfied: six>=1.9 in /usr/local/lib/python3.7/dist-packages (from protobuf>=3.11.1->syft-proto~=0.2.1.a1.post2->syft==0.2.3) (1.15.0)\n",
            "Building wheels for collected packages: phe, zstd\n",
            "  Building wheel for phe (setup.py) ... \u001b[?25l\u001b[?25hdone\n",
            "  Created wheel for phe: filename=phe-1.4.0-py2.py3-none-any.whl size=37362 sha256=fc4317a64df4bb7cd048b5545b068b82448540c1e10d9e5b62e3163d8360cc93\n",
            "  Stored in directory: /root/.cache/pip/wheels/bb/ac/9b/b07a04fe6bb1418ab4ee06d6652757aef848b80363c4dac507\n",
            "  Building wheel for zstd (setup.py) ... \u001b[?25l\u001b[?25hdone\n",
            "  Created wheel for zstd: filename=zstd-1.4.4.0-cp37-cp37m-linux_x86_64.whl size=1130609 sha256=30c319302ec9d0fa49ed245932b8341b9bd652cf74cf63926845de41036f26e4\n",
            "  Stored in directory: /root/.cache/pip/wheels/67/89/dc/6aeb438fbd0f8956f29503bb2f28b3e2e711b1bdbcf6d6c618\n",
            "Successfully built phe zstd\n",
            "Installing collected packages: python-engineio, bidict, torch, python-socketio, Pillow, numpy, idna, zstd, websockets, websocket-client, torchvision, tblib, syft-proto, scipy, requests, phe, lz4, flask-socketio, syft\n",
            "  Attempting uninstall: torch\n",
            "    Found existing installation: torch 1.12.1+cu113\n",
            "    Uninstalling torch-1.12.1+cu113:\n",
            "      Successfully uninstalled torch-1.12.1+cu113\n",
            "  Attempting uninstall: Pillow\n",
            "    Found existing installation: Pillow 7.1.2\n",
            "    Uninstalling Pillow-7.1.2:\n",
            "      Successfully uninstalled Pillow-7.1.2\n",
            "  Attempting uninstall: numpy\n",
            "    Found existing installation: numpy 1.21.6\n",
            "    Uninstalling numpy-1.21.6:\n",
            "      Successfully uninstalled numpy-1.21.6\n",
            "  Attempting uninstall: idna\n",
            "    Found existing installation: idna 2.10\n",
            "    Uninstalling idna-2.10:\n",
            "      Successfully uninstalled idna-2.10\n",
            "  Attempting uninstall: torchvision\n",
            "    Found existing installation: torchvision 0.13.1+cu113\n",
            "    Uninstalling torchvision-0.13.1+cu113:\n",
            "      Successfully uninstalled torchvision-0.13.1+cu113\n",
            "  Attempting uninstall: tblib\n",
            "    Found existing installation: tblib 1.7.0\n",
            "    Uninstalling tblib-1.7.0:\n",
            "      Successfully uninstalled tblib-1.7.0\n",
            "  Attempting uninstall: scipy\n",
            "    Found existing installation: scipy 1.7.3\n",
            "    Uninstalling scipy-1.7.3:\n",
            "      Successfully uninstalled scipy-1.7.3\n",
            "  Attempting uninstall: requests\n",
            "    Found existing installation: requests 2.23.0\n",
            "    Uninstalling requests-2.23.0:\n",
            "      Successfully uninstalled requests-2.23.0\n",
            "\u001b[31mERROR: pip's dependency resolver does not currently take into account all the packages that are installed. This behaviour is the source of the following dependency conflicts.\n",
            "xarray-einstats 0.2.2 requires numpy>=1.21, but you have numpy 1.18.5 which is incompatible.\n",
            "torchtext 0.13.1 requires torch==1.12.1, but you have torch 1.4.0 which is incompatible.\n",
            "torchaudio 0.12.1+cu113 requires torch==1.12.1, but you have torch 1.4.0 which is incompatible.\n",
            "tensorflow 2.9.2 requires numpy>=1.20, but you have numpy 1.18.5 which is incompatible.\n",
            "tables 3.7.0 requires numpy>=1.19.0, but you have numpy 1.18.5 which is incompatible.\n",
            "plotnine 0.8.0 requires numpy>=1.19.0, but you have numpy 1.18.5 which is incompatible.\n",
            "plotnine 0.8.0 requires scipy>=1.5.0, but you have scipy 1.4.1 which is incompatible.\n",
            "jaxlib 0.3.22+cuda11.cudnn805 requires numpy>=1.20, but you have numpy 1.18.5 which is incompatible.\n",
            "jaxlib 0.3.22+cuda11.cudnn805 requires scipy>=1.5, but you have scipy 1.4.1 which is incompatible.\n",
            "jax 0.3.23 requires numpy>=1.20, but you have numpy 1.18.5 which is incompatible.\n",
            "jax 0.3.23 requires scipy>=1.5, but you have scipy 1.4.1 which is incompatible.\n",
            "google-colab 1.0.0 requires requests>=2.23.0, but you have requests 2.22.0 which is incompatible.\n",
            "fastai 2.7.9 requires torch<1.14,>=1.7, but you have torch 1.4.0 which is incompatible.\n",
            "fastai 2.7.9 requires torchvision>=0.8.2, but you have torchvision 0.5.0 which is incompatible.\n",
            "cupy-cuda11x 11.0.0 requires numpy<1.26,>=1.20, but you have numpy 1.18.5 which is incompatible.\n",
            "cmdstanpy 1.0.8 requires numpy>=1.21, but you have numpy 1.18.5 which is incompatible.\n",
            "bokeh 2.3.3 requires pillow>=7.1.0, but you have pillow 6.2.2 which is incompatible.\u001b[0m\n",
            "Successfully installed Pillow-6.2.2 bidict-0.22.0 flask-socketio-4.2.1 idna-2.8 lz4-3.0.2 numpy-1.18.5 phe-1.4.0 python-engineio-4.3.4 python-socketio-5.7.2 requests-2.22.0 scipy-1.4.1 syft-0.2.3 syft-proto-0.2.1a1.post2 tblib-1.6.0 torch-1.4.0 torchvision-0.5.0 websocket-client-0.57.0 websockets-8.1 zstd-1.4.4.0\n"
          ]
        },
        {
          "output_type": "display_data",
          "data": {
            "application/vnd.colab-display-data+json": {
              "pip_warning": {
                "packages": [
                  "PIL",
                  "idna",
                  "numpy",
                  "scipy",
                  "torch"
                ]
              }
            }
          },
          "metadata": {}
        }
      ]
    },
    {
      "cell_type": "code",
      "execution_count": null,
      "metadata": {
        "id": "k51B0O0UV0eF",
        "colab": {
          "base_uri": "https://localhost:8080/"
        },
        "outputId": "48845f2e-145f-40c8-8559-42535bd22e31"
      },
      "outputs": [
        {
          "output_type": "stream",
          "name": "stderr",
          "text": [
            "WARNING:root:Torch was already hooked... skipping hooking process\n"
          ]
        }
      ],
      "source": [
        "%%capture\n",
        "import torch\n",
        "import syft as sy\n",
        "\n",
        "# Hook PyTorch ie add extra functionalities to support Federated Learning\n",
        "hook = sy.TorchHook(torch)\n",
        "# Sets the seed for generating random numbers.\n",
        "torch.manual_seed(1)\n",
        "# Select CPU computation, in case you want GPU use \"cuda\" instead\n",
        "device = torch.device(\"cpu\")\n",
        "# Data will be distributed among these VirtualWorkers.\n",
        "# Remote training of the model will happen here.\n",
        "gatway1 = sy.VirtualWorker(hook, id=\"gatway1\")\n",
        "gatway2 = sy.VirtualWorker(hook, id=\"gatway2\") "
      ]
    },
    {
      "cell_type": "markdown",
      "metadata": {
        "id": "Onhdrf0lV0eG"
      },
      "source": [
        "### 5. Lets set the training params"
      ]
    },
    {
      "cell_type": "code",
      "execution_count": null,
      "metadata": {
        "colab": {
          "base_uri": "https://localhost:8080/"
        },
        "id": "ZnCUF92MV0eG",
        "outputId": "f8afb1aa-48b1-463a-fa22-ff816e38179c"
      },
      "outputs": [
        {
          "output_type": "stream",
          "name": "stdout",
          "text": [
            "Number of training features :  33\n",
            "Number of training classes :  20\n"
          ]
        }
      ],
      "source": [
        "import numpy as np\n",
        "\n",
        "# Number of times we want to iterate over whole training data\n",
        "BATCH_SIZE = 1000\n",
        "EPOCHS = 6\n",
        "LOG_INTERVAL = 5\n",
        "lr = 0.01\n",
        "\n",
        "n_feature = X_train.shape[1]\n",
        "n_class = np.unique(y_train).shape[0]\n",
        "\n",
        "print(\"Number of training features : \",n_feature)\n",
        "print(\"Number of training classes : \",n_class)"
      ]
    },
    {
      "cell_type": "markdown",
      "metadata": {
        "id": "f2M75Wd5V0eH"
      },
      "source": [
        "### 6. Prepare Federated data and distribute across the gateways"
      ]
    },
    {
      "cell_type": "code",
      "execution_count": null,
      "metadata": {
        "id": "fSp5b2NZV0eH"
      },
      "outputs": [],
      "source": [
        "# Create pytorch tensor from X_train,y_train,X_test,y_test\n",
        "train_inputs = torch.tensor(X_train,dtype=torch.float).tag(\"#iot\", \"#network\",\"#data\",\"#train\")\n",
        "train_labels = torch.tensor(y_train).tag(\"#iot\", \"#network\",\"#target\",\"#train\")\n",
        "test_inputs = torch.tensor(X_test,dtype=torch.float).tag(\"#iot\", \"#network\",\"#data\",\"#test\")\n",
        "test_labels = torch.tensor(y_test).tag(\"#iot\", \"#network\",\"#target\",\"#test\")\n",
        "\n",
        "# Send the training and test data to the gatways in equal proportion.\n",
        "train_idx = int(len(train_labels)/2)\n",
        "test_idx = int(len(test_labels)/2)\n",
        "gatway1_train_dataset = sy.BaseDataset(train_inputs[:train_idx], train_labels[:train_idx]).send(gatway1)\n",
        "gatway2_train_dataset = sy.BaseDataset(train_inputs[train_idx:], train_labels[train_idx:]).send(gatway2)\n",
        "gatway1_test_dataset = sy.BaseDataset(test_inputs[:test_idx], test_labels[:test_idx]).send(gatway1)\n",
        "gatway2_test_dataset = sy.BaseDataset(test_inputs[test_idx:], test_labels[test_idx:]).send(gatway2)\n",
        "\n",
        "# Create federated datasets, an extension of Pytorch TensorDataset class\n",
        "federated_train_dataset = sy.FederatedDataset([gatway1_train_dataset, gatway2_train_dataset])\n",
        "federated_test_dataset = sy.FederatedDataset([gatway1_test_dataset, gatway2_test_dataset])\n",
        "\n",
        "# Create federated dataloaders, an extension of Pytorch DataLoader class\n",
        "federated_train_loader = sy.FederatedDataLoader(federated_train_dataset, shuffle=True, batch_size=BATCH_SIZE)\n",
        "federated_test_loader = sy.FederatedDataLoader(federated_test_dataset, shuffle=False, batch_size=BATCH_SIZE)"
      ]
    },
    {
      "cell_type": "markdown",
      "metadata": {
        "id": "bahYT42hV0eI"
      },
      "source": [
        "### 7. Lets define a simple Logistic Regression Model in Pytorch"
      ]
    },
    {
      "cell_type": "code",
      "execution_count": null,
      "metadata": {
        "id": "HZvtSq3xV0eJ"
      },
      "outputs": [],
      "source": [
        "import torch.nn as nn\n",
        "class Net(nn.Module):\n",
        "    def __init__(self, input_dim, output_dim):\n",
        "        \"\"\"\n",
        "        input_dim: number of input features.\n",
        "        output_dim: number of labels.\n",
        "        \"\"\"\n",
        "        super(Net, self).__init__()\n",
        "        self.linear = torch.nn.Linear(input_dim, output_dim)\n",
        "    def forward(self, x):\n",
        "        outputs = self.linear(x)\n",
        "        return outputs"
      ]
    },
    {
      "cell_type": "markdown",
      "metadata": {
        "id": "wS1PxkIrV0eJ"
      },
      "source": [
        "### 8. Lets define the training process "
      ]
    },
    {
      "cell_type": "code",
      "execution_count": null,
      "metadata": {
        "id": "VU5Xb6ScV0eJ"
      },
      "outputs": [],
      "source": [
        "import torch.nn.functional as F\n",
        "\n",
        "def train(model, device, federated_train_loader, optimizer, epoch):\n",
        "    model.train()\n",
        "    # Iterate through each gateway's dataset\n",
        "    for idx, (data, target) in enumerate(federated_train_loader):\n",
        "        batch_idx = idx+1\n",
        "        # Send the model to the right gateway\n",
        "        model.send(data.location)\n",
        "        # Move the data and target labels to the device (cpu/gpu) for computation\n",
        "        data, target = data.to(device), target.to(device)\n",
        "        # Clear previous gradients (if they exist)\n",
        "        optimizer.zero_grad()\n",
        "        # Make a prediction\n",
        "        output = model(data)\n",
        "        # Calculate the cross entropy loss [We are doing classification]\n",
        "        loss = F.cross_entropy(output, target)\n",
        "        # Calculate the gradients\n",
        "        loss.backward()\n",
        "        # Update the model weights\n",
        "        optimizer.step()\n",
        "        # Get the model back from the gateway\n",
        "        model.get()\n",
        "        if batch_idx==len(federated_train_loader) or (batch_idx!=0 and batch_idx % LOG_INTERVAL == 0):\n",
        "            # get the loss back\n",
        "            loss = loss.get()\n",
        "            print('Train Epoch: {} [{}/{} ({:.0f}%)]\\tLoss: {:.6f}'.format(\n",
        "                epoch, batch_idx * BATCH_SIZE, len(federated_train_loader) * BATCH_SIZE,\n",
        "                100. * batch_idx / len(federated_train_loader), loss.item()))"
      ]
    },
    {
      "cell_type": "markdown",
      "metadata": {
        "id": "0aAiztZ7V0eK"
      },
      "source": [
        "### 9. Lets define the validation process"
      ]
    },
    {
      "cell_type": "code",
      "execution_count": null,
      "metadata": {
        "id": "Ne1OPfFhV0eK"
      },
      "outputs": [],
      "source": [
        "import torch.nn.functional as F\n",
        "\n",
        "def test(model, device, federated_test_loader):\n",
        "    model.eval()\n",
        "    correct = 0\n",
        "    with torch.no_grad():\n",
        "        for batch_idx, (data, target) in enumerate(federated_test_loader):\n",
        "            # Send the model to the right gateway\n",
        "            model.send(data.location)\n",
        "            # Move the data and target labels to the device (cpu/gpu) for computation\n",
        "            data, target = data.to(device), target.to(device)\n",
        "            # Make a prediction\n",
        "            output = model(data)\n",
        "            # Get the model back from the gateway\n",
        "            model.get()\n",
        "            # Calculate the cross entropy loss\n",
        "            loss = F.cross_entropy(output, target)\n",
        "            # Get the index of the max log-probability \n",
        "            pred = output.argmax(1, keepdim=True)\n",
        "            # Get the number of instances correctly predicted\n",
        "            correct += pred.eq(target.view_as(pred)).sum().get()\n",
        "                \n",
        "    # get the loss back\n",
        "    loss = loss.get()\n",
        "    print('Test set: Loss: {:.4f}, Accuracy: {}/{} ({:.0f}%)\\n'.format(\n",
        "        loss.item(), correct, len(federated_test_loader.federated_dataset),\n",
        "        100. * correct / len(federated_test_loader.federated_dataset)))"
      ]
    },
    {
      "cell_type": "markdown",
      "metadata": {
        "id": "ZLHJqoFkV0eK"
      },
      "source": [
        "### 10. Lets train the model in Federated way"
      ]
    },
    {
      "cell_type": "code",
      "execution_count": null,
      "metadata": {
        "scrolled": false,
        "colab": {
          "base_uri": "https://localhost:8080/"
        },
        "id": "JsiphahfV0eK",
        "outputId": "c567e798-3cbc-46af-9d95-9a082e8e8cd1"
      },
      "outputs": [
        {
          "output_type": "stream",
          "name": "stdout",
          "text": [
            "Train Epoch: 1 [5000/60000 (8%)]\tLoss: 3.063372\n",
            "Train Epoch: 1 [10000/60000 (17%)]\tLoss: 2.978291\n",
            "Train Epoch: 1 [15000/60000 (25%)]\tLoss: 2.902188\n",
            "Train Epoch: 1 [20000/60000 (33%)]\tLoss: 2.816142\n",
            "Train Epoch: 1 [25000/60000 (42%)]\tLoss: 2.744145\n",
            "Train Epoch: 1 [30000/60000 (50%)]\tLoss: 2.669981\n",
            "Train Epoch: 1 [35000/60000 (58%)]\tLoss: 2.592572\n",
            "Train Epoch: 1 [40000/60000 (67%)]\tLoss: 2.530834\n",
            "Train Epoch: 1 [45000/60000 (75%)]\tLoss: 2.460329\n",
            "Train Epoch: 1 [50000/60000 (83%)]\tLoss: 2.393310\n",
            "Train Epoch: 1 [55000/60000 (92%)]\tLoss: 2.313784\n",
            "Train Epoch: 1 [60000/60000 (100%)]\tLoss: 2.245094\n",
            "Test set: Loss: 2.2336, Accuracy: 22771/40000 (57%)\n",
            "\n",
            "Train Epoch: 2 [5000/60000 (8%)]\tLoss: 2.184924\n",
            "Train Epoch: 2 [10000/60000 (17%)]\tLoss: 2.110788\n",
            "Train Epoch: 2 [15000/60000 (25%)]\tLoss: 2.069961\n",
            "Train Epoch: 2 [20000/60000 (33%)]\tLoss: 2.005506\n",
            "Train Epoch: 2 [25000/60000 (42%)]\tLoss: 1.954772\n",
            "Train Epoch: 2 [30000/60000 (50%)]\tLoss: 1.897917\n",
            "Train Epoch: 2 [35000/60000 (58%)]\tLoss: 1.840582\n",
            "Train Epoch: 2 [40000/60000 (67%)]\tLoss: 1.812792\n",
            "Train Epoch: 2 [45000/60000 (75%)]\tLoss: 1.766029\n",
            "Train Epoch: 2 [50000/60000 (83%)]\tLoss: 1.719928\n",
            "Train Epoch: 2 [55000/60000 (92%)]\tLoss: 1.664493\n",
            "Train Epoch: 2 [60000/60000 (100%)]\tLoss: 1.646868\n",
            "Test set: Loss: 1.6117, Accuracy: 30686/40000 (77%)\n",
            "\n",
            "Train Epoch: 3 [5000/60000 (8%)]\tLoss: 1.570055\n",
            "Train Epoch: 3 [10000/60000 (17%)]\tLoss: 1.545749\n",
            "Train Epoch: 3 [15000/60000 (25%)]\tLoss: 1.495446\n",
            "Train Epoch: 3 [20000/60000 (33%)]\tLoss: 1.453253\n",
            "Train Epoch: 3 [25000/60000 (42%)]\tLoss: 1.438428\n",
            "Train Epoch: 3 [30000/60000 (50%)]\tLoss: 1.387116\n",
            "Train Epoch: 3 [35000/60000 (58%)]\tLoss: 1.358040\n",
            "Train Epoch: 3 [40000/60000 (67%)]\tLoss: 1.356826\n",
            "Train Epoch: 3 [45000/60000 (75%)]\tLoss: 1.335830\n",
            "Train Epoch: 3 [50000/60000 (83%)]\tLoss: 1.289753\n",
            "Train Epoch: 3 [55000/60000 (92%)]\tLoss: 1.251103\n",
            "Train Epoch: 3 [60000/60000 (100%)]\tLoss: 1.243339\n",
            "Test set: Loss: 1.2259, Accuracy: 30686/40000 (77%)\n",
            "\n",
            "Train Epoch: 4 [5000/60000 (8%)]\tLoss: 1.222930\n",
            "Train Epoch: 4 [10000/60000 (17%)]\tLoss: 1.171059\n",
            "Train Epoch: 4 [15000/60000 (25%)]\tLoss: 1.148782\n",
            "Train Epoch: 4 [20000/60000 (33%)]\tLoss: 1.152593\n",
            "Train Epoch: 4 [25000/60000 (42%)]\tLoss: 1.156718\n",
            "Train Epoch: 4 [30000/60000 (50%)]\tLoss: 1.089015\n",
            "Train Epoch: 4 [35000/60000 (58%)]\tLoss: 1.098877\n",
            "Train Epoch: 4 [40000/60000 (67%)]\tLoss: 1.051879\n",
            "Train Epoch: 4 [45000/60000 (75%)]\tLoss: 1.010052\n",
            "Train Epoch: 4 [50000/60000 (83%)]\tLoss: 1.013699\n",
            "Train Epoch: 4 [55000/60000 (92%)]\tLoss: 1.003037\n",
            "Train Epoch: 4 [60000/60000 (100%)]\tLoss: 1.006362\n",
            "Test set: Loss: 0.9781, Accuracy: 30687/40000 (77%)\n",
            "\n",
            "Train Epoch: 5 [5000/60000 (8%)]\tLoss: 0.984492\n",
            "Train Epoch: 5 [10000/60000 (17%)]\tLoss: 0.958900\n",
            "Train Epoch: 5 [15000/60000 (25%)]\tLoss: 0.962639\n",
            "Train Epoch: 5 [20000/60000 (33%)]\tLoss: 0.913012\n",
            "Train Epoch: 5 [25000/60000 (42%)]\tLoss: 0.925821\n",
            "Train Epoch: 5 [30000/60000 (50%)]\tLoss: 0.915670\n",
            "Train Epoch: 5 [35000/60000 (58%)]\tLoss: 0.891610\n",
            "Train Epoch: 5 [40000/60000 (67%)]\tLoss: 0.885203\n",
            "Train Epoch: 5 [45000/60000 (75%)]\tLoss: 0.849125\n",
            "Train Epoch: 5 [50000/60000 (83%)]\tLoss: 0.863243\n",
            "Train Epoch: 5 [55000/60000 (92%)]\tLoss: 0.833856\n",
            "Train Epoch: 5 [60000/60000 (100%)]\tLoss: 0.863984\n",
            "Test set: Loss: 0.8101, Accuracy: 30695/40000 (77%)\n",
            "\n",
            "Train Epoch: 6 [5000/60000 (8%)]\tLoss: 0.868828\n",
            "Train Epoch: 6 [10000/60000 (17%)]\tLoss: 0.828386\n",
            "Train Epoch: 6 [15000/60000 (25%)]\tLoss: 0.804441\n",
            "Train Epoch: 6 [20000/60000 (33%)]\tLoss: 0.767164\n",
            "Train Epoch: 6 [25000/60000 (42%)]\tLoss: 0.756120\n",
            "Train Epoch: 6 [30000/60000 (50%)]\tLoss: 0.766257\n",
            "Train Epoch: 6 [35000/60000 (58%)]\tLoss: 0.798183\n",
            "Train Epoch: 6 [40000/60000 (67%)]\tLoss: 0.782674\n",
            "Train Epoch: 6 [45000/60000 (75%)]\tLoss: 0.756474\n",
            "Train Epoch: 6 [50000/60000 (83%)]\tLoss: 0.692317\n",
            "Train Epoch: 6 [55000/60000 (92%)]\tLoss: 0.704085\n",
            "Train Epoch: 6 [60000/60000 (100%)]\tLoss: 0.719235\n",
            "Test set: Loss: 0.6928, Accuracy: 38287/40000 (96%)\n",
            "\n",
            "CPU times: user 5min, sys: 22.2 s, total: 5min 22s\n",
            "Wall time: 5min 20s\n"
          ]
        }
      ],
      "source": [
        "%%time\n",
        "import torch.optim as optim\n",
        "\n",
        "# Initialize the model\n",
        "model = Net(n_feature,n_class)\n",
        "\n",
        "#Initialize the SGD optimizer\n",
        "optimizer = optim.SGD(model.parameters(), lr=lr)\n",
        "\n",
        "for epoch in range(1, EPOCHS + 1):\n",
        "    # Train on the training data in a federated way\n",
        "    train(model, device, federated_train_loader, optimizer, epoch)\n",
        "    # Check the test accuracy on unseen test data in a federated way\n",
        "    test(model, device, federated_test_loader)"
      ]
    },
    {
      "cell_type": "markdown",
      "metadata": {
        "id": "vMBj8LzwV0eL"
      },
      "source": [
        "### 11. Save, reload and use the model to predict a network traffic data"
      ]
    },
    {
      "cell_type": "code",
      "execution_count": null,
      "metadata": {
        "colab": {
          "base_uri": "https://localhost:8080/"
        },
        "id": "7iwwfKc4V0eL",
        "outputId": "c0d413e5-7658-4056-f31a-e2270489ec3c"
      },
      "outputs": [
        {
          "output_type": "execute_result",
          "data": {
            "text/plain": [
              "Net(\n",
              "  (linear): Linear(in_features=33, out_features=20, bias=True)\n",
              ")"
            ]
          },
          "metadata": {},
          "execution_count": 24
        }
      ],
      "source": [
        "# Save the model\n",
        "torch.save(model.state_dict(), \"binaize-threat-model.pt\")\n",
        "# Reload the model in a new model object\n",
        "model_new = Net(n_feature,n_class)\n",
        "model_new.load_state_dict(torch.load(\"binaize-threat-model.pt\"))\n",
        "model_new.eval()"
      ]
    },
    {
      "cell_type": "code",
      "execution_count": null,
      "metadata": {
        "colab": {
          "base_uri": "https://localhost:8080/"
        },
        "id": "FQ1ikOK5V0eL",
        "outputId": "c1789f4a-8d40-476c-c2fe-1a774d27ed5b"
      },
      "outputs": [
        {
          "output_type": "stream",
          "name": "stdout",
          "text": [
            "Predicted threat type :  neptune.\n",
            "Actual threat type :  neptune.\n"
          ]
        }
      ],
      "source": [
        "idx = 122\n",
        "data = test_inputs[idx]\n",
        "pred = model_new(data)\n",
        "pred_label = int(pred.argmax().data.cpu().numpy())\n",
        "pred_threat = encoder.inverse_transform([pred_label])[0]\n",
        "print(\"Predicted threat type : \", pred_threat)\n",
        "actual_label = int(test_labels[idx].data.cpu().numpy())\n",
        "actual_threat = encoder.inverse_transform([actual_label])[0]\n",
        "print(\"Actual threat type : \", actual_threat)"
      ]
    },
    {
      "cell_type": "code",
      "execution_count": null,
      "metadata": {
        "colab": {
          "base_uri": "https://localhost:8080/"
        },
        "id": "2y2gEGewV0eM",
        "outputId": "23259038-731a-47e3-9a73-49324cda5f7b"
      },
      "outputs": [
        {
          "output_type": "stream",
          "name": "stdout",
          "text": [
            "Predicted threat type :  normal.\n",
            "Actual threat type :  ipsweep.\n"
          ]
        }
      ],
      "source": [
        "idx = 159\n",
        "data = test_inputs[idx]\n",
        "pred = model_new(data)\n",
        "pred_label = int(pred.argmax().data.cpu().numpy())\n",
        "pred_threat = encoder.inverse_transform([pred_label])[0]\n",
        "print(\"Predicted threat type : \", pred_threat)\n",
        "actual_label = int(test_labels[idx].data.cpu().numpy())\n",
        "actual_threat = encoder.inverse_transform([actual_label])[0]\n",
        "print(\"Actual threat type : \", actual_threat)"
      ]
    },
    {
      "cell_type": "code",
      "source": [
        "idx = 100\n",
        "data = test_inputs[idx]\n",
        "pred = model_new(data)\n",
        "pred_label = int(pred.argmax().data.cpu().numpy())\n",
        "pred_threat = encoder.inverse_transform([pred_label])[0]\n",
        "print(\"Predicted threat type : \", pred_threat)\n",
        "actual_label = int(test_labels[idx].data.cpu().numpy())\n",
        "actual_threat = encoder.inverse_transform([actual_label])[0]\n",
        "print(\"Actual threat type : \", actual_threat)"
      ],
      "metadata": {
        "colab": {
          "base_uri": "https://localhost:8080/"
        },
        "id": "w_vwz37-aRYX",
        "outputId": "852f13f5-674c-41ae-e8d7-2d4c0b7edc41"
      },
      "execution_count": null,
      "outputs": [
        {
          "output_type": "stream",
          "name": "stdout",
          "text": [
            "Predicted threat type :  normal.\n",
            "Actual threat type :  normal.\n"
          ]
        }
      ]
    },
    {
      "cell_type": "code",
      "source": [
        "idx = 56\n",
        "data = test_inputs[idx]\n",
        "pred = model_new(data)\n",
        "pred_label = int(pred.argmax().data.cpu().numpy())\n",
        "pred_threat = encoder.inverse_transform([pred_label])[0]\n",
        "print(\"Predicted threat type : \", pred_threat)\n",
        "actual_label = int(test_labels[idx].data.cpu().numpy())\n",
        "actual_threat = encoder.inverse_transform([actual_label])[0]\n",
        "print(\"Actual threat type : \", actual_threat)"
      ],
      "metadata": {
        "id": "5dhG8G6uaZZ-",
        "colab": {
          "base_uri": "https://localhost:8080/"
        },
        "outputId": "99fa84c8-0884-45dc-f0da-40e7dcc9dafa"
      },
      "execution_count": null,
      "outputs": [
        {
          "output_type": "stream",
          "name": "stdout",
          "text": [
            "Predicted threat type :  neptune.\n",
            "Actual threat type :  neptune.\n"
          ]
        }
      ]
    },
    {
      "cell_type": "code",
      "source": [
        "idx = 88\n",
        "data = test_inputs[idx]\n",
        "pred = model_new(data)\n",
        "pred_label = int(pred.argmax().data.cpu().numpy())\n",
        "pred_threat = encoder.inverse_transform([pred_label])[0]\n",
        "print(\"Predicted threat type : \", pred_threat)\n",
        "actual_label = int(test_labels[idx].data.cpu().numpy())\n",
        "actual_threat = encoder.inverse_transform([actual_label])[0]\n",
        "print(\"Actual threat type : \", actual_threat)"
      ],
      "metadata": {
        "colab": {
          "base_uri": "https://localhost:8080/"
        },
        "id": "UnSWInYq1WRe",
        "outputId": "1bd8e7ec-e251-4291-e1d2-d8829dc16f4d"
      },
      "execution_count": null,
      "outputs": [
        {
          "output_type": "stream",
          "name": "stdout",
          "text": [
            "Predicted threat type :  normal.\n",
            "Actual threat type :  smurf.\n"
          ]
        }
      ]
    },
    {
      "cell_type": "code",
      "source": [],
      "metadata": {
        "id": "cJceAXT31Xs5"
      },
      "execution_count": null,
      "outputs": []
    }
  ],
  "metadata": {
    "kernelspec": {
      "display_name": "Python 3",
      "language": "python",
      "name": "python3"
    },
    "language_info": {
      "codemirror_mode": {
        "name": "ipython",
        "version": 3
      },
      "file_extension": ".py",
      "mimetype": "text/x-python",
      "name": "python",
      "nbconvert_exporter": "python",
      "pygments_lexer": "ipython3",
      "version": "3.8.8"
    },
    "colab": {
      "provenance": []
    },
    "accelerator": "GPU",
    "gpuClass": "standard"
  },
  "nbformat": 4,
  "nbformat_minor": 0
}